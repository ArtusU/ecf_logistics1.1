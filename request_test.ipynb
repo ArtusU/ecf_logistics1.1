{
 "cells": [
  {
   "cell_type": "code",
   "execution_count": 10,
   "metadata": {},
   "outputs": [
    {
     "name": "stdout",
     "output_type": "stream",
     "text": [
      "55.940513\n",
      "-3.219436\n"
     ]
    }
   ],
   "source": [
    "import requests\n",
    "import json\n",
    "\n",
    "\n",
    "POST_CODE = 'EH11 1DQ'\n",
    "BASE_URL = \"http://api.postcodes.io/postcodes/\"\n",
    "data_str = requests.get(BASE_URL + POST_CODE).text\n",
    "resuslt_dict = json.loads(data_str)\n",
    "result = resuslt_dict[\"result\"]\n",
    "lat = result[\"latitude\"]\n",
    "lon = result[\"longitude\"]\n",
    "print(lat)\n",
    "print(lon)"
   ]
  }
 ],
 "metadata": {
  "interpreter": {
   "hash": "370508c7bfb766e303a9689156db49d7d48bbaad588d755c23259b3f7ebb6ef8"
  },
  "kernelspec": {
   "display_name": "Python 3.9.7 64-bit ('venv': venv)",
   "language": "python",
   "name": "python3"
  },
  "language_info": {
   "codemirror_mode": {
    "name": "ipython",
    "version": 3
   },
   "file_extension": ".py",
   "mimetype": "text/x-python",
   "name": "python",
   "nbconvert_exporter": "python",
   "pygments_lexer": "ipython3",
   "version": "3.9.7"
  },
  "orig_nbformat": 4
 },
 "nbformat": 4,
 "nbformat_minor": 2
}
